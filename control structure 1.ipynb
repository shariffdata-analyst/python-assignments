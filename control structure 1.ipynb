{
 "cells": [
  {
   "cell_type": "code",
   "execution_count": 1,
   "id": "3c1d5a94-0e79-42e8-9d3e-3695f1b8b8e8",
   "metadata": {},
   "outputs": [
    {
     "name": "stdout",
     "output_type": "stream",
     "text": [
      "Welcome to Assignment-1\n"
     ]
    }
   ],
   "source": [
    "print(\"Welcome to Assignment-1\")"
   ]
  },
  {
   "cell_type": "code",
   "execution_count": 2,
   "id": "fd947465-399c-4b3d-b2ff-8bff60ccacdc",
   "metadata": {},
   "outputs": [],
   "source": [
    "Num1= 10\n",
    "Num2= 30\n"
   ]
  },
  {
   "cell_type": "code",
   "execution_count": 3,
   "id": "70912e96-618a-45ad-855f-feb26f5d038b",
   "metadata": {},
   "outputs": [],
   "source": [
    "add=Num1+Num2"
   ]
  },
  {
   "cell_type": "code",
   "execution_count": 4,
   "id": "608994bb-7f2c-4ef4-89ac-3c36b563c624",
   "metadata": {},
   "outputs": [
    {
     "name": "stdout",
     "output_type": "stream",
     "text": [
      "40\n"
     ]
    }
   ],
   "source": [
    "print(add)"
   ]
  },
  {
   "cell_type": "code",
   "execution_count": 8,
   "id": "444efc0e-2c95-4385-af66-1b9dd861789b",
   "metadata": {},
   "outputs": [
    {
     "name": "stdin",
     "output_type": "stream",
     "text": [
      "Enter the bmi index : 27.3\n"
     ]
    }
   ],
   "source": [
    "weight= float(input(\"Enter the bmi index :\"))"
   ]
  },
  {
   "cell_type": "code",
   "execution_count": 9,
   "id": "6e2bcd0e-77bd-4e61-9f08-ecadd7329960",
   "metadata": {},
   "outputs": [
    {
     "name": "stdout",
     "output_type": "stream",
     "text": [
      "over weight\n"
     ]
    }
   ],
   "source": [
    " if (weight<18.5):\n",
    "    print(\"underwight\")\n",
    "elif(18.5<weight<24.9):\n",
    "    print(\"normal range\")\n",
    "elif(25.0<weight<29.9):\n",
    "    print(\"over weight\")\n",
    "else:\n",
    "    print(\"Very overweight\")"
   ]
  }
 ],
 "metadata": {
  "kernelspec": {
   "display_name": "Python 3 (ipykernel)",
   "language": "python",
   "name": "python3"
  },
  "language_info": {
   "codemirror_mode": {
    "name": "ipython",
    "version": 3
   },
   "file_extension": ".py",
   "mimetype": "text/x-python",
   "name": "python",
   "nbconvert_exporter": "python",
   "pygments_lexer": "ipython3",
   "version": "3.12.4"
  }
 },
 "nbformat": 4,
 "nbformat_minor": 5
}
