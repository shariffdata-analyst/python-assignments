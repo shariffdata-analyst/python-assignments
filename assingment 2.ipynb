{
 "cells": [
  {
   "cell_type": "code",
   "execution_count": 9,
   "id": "764e92e7-8e43-4203-9bfa-bf1b05ec0889",
   "metadata": {},
   "outputs": [
    {
     "name": "stdout",
     "output_type": "stream",
     "text": [
      "0\n",
      "1\n",
      "2\n",
      "3\n",
      "4\n",
      "5\n",
      "6\n",
      "7\n",
      "8\n",
      "9\n",
      "10\n",
      "11\n",
      "12\n",
      "13\n",
      "14\n",
      "15\n",
      "16\n",
      "17\n",
      "18\n",
      "19\n"
     ]
    }
   ],
   "source": [
    "for num in range(0,20):\n",
    "    print(num)"
   ]
  },
  {
   "cell_type": "code",
   "execution_count": 11,
   "id": "3dd65019-4f9a-424d-acbb-ee930da67890",
   "metadata": {},
   "outputs": [
    {
     "name": "stdout",
     "output_type": "stream",
     "text": [
      "10\n",
      "11\n",
      "12\n",
      "13\n",
      "14\n",
      "15\n",
      "16\n",
      "17\n",
      "18\n",
      "19\n"
     ]
    }
   ],
   "source": [
    "for temp in range(10,20):\n",
    "    print(temp)"
   ]
  },
  {
   "cell_type": "code",
   "execution_count": 14,
   "id": "f4fb1321-2786-4620-ac0e-a1024ab1716b",
   "metadata": {},
   "outputs": [
    {
     "name": "stdout",
     "output_type": "stream",
     "text": [
      "[10, 20, 14, 55, 43, 87, 76]\n",
      "Number of item in the List2: 7\n"
     ]
    }
   ],
   "source": [
    "lists = [10,20,14,55,43,87,76]\n",
    "print(lists)\n",
    "print(\"Number of item in the List2:\",len(lists))\n"
   ]
  },
  {
   "cell_type": "code",
   "execution_count": null,
   "id": "f0d66858-79df-4812-a844-3924d7bb558b",
   "metadata": {},
   "outputs": [],
   "source": []
  },
  {
   "cell_type": "code",
   "execution_count": 24,
   "id": "1e186b51-cbf3-46ed-a0d7-2e8bcebfa463",
   "metadata": {},
   "outputs": [
    {
     "name": "stdout",
     "output_type": "stream",
     "text": [
      "Artificial Intelligence\n",
      "A\n",
      "R\n",
      "T\n",
      "I\n",
      "F\n",
      "I\n",
      "C\n",
      "I\n",
      "A\n",
      "L\n",
      " \n",
      "I\n",
      "N\n",
      "T\n",
      "E\n",
      "L\n",
      "L\n",
      "I\n",
      "G\n",
      "E\n",
      "N\n",
      "C\n",
      "E\n"
     ]
    }
   ],
   "source": [
    "print(\"Artificial Intelligence\")\n",
    "N = (\"ARTIFICIAL INTELLIGENCE\")\n",
    "for n in range(0,len(N),1):\n",
    "    print(N[n])\n"
   ]
  },
  {
   "cell_type": "code",
   "execution_count": 25,
   "id": "3a994fda-1272-4226-b2c5-25a3f9b43f70",
   "metadata": {},
   "outputs": [
    {
     "name": "stdin",
     "output_type": "stream",
     "text": [
      "Enter Name : ARTIFICIAL INTELLINGENCE\n"
     ]
    },
    {
     "name": "stdout",
     "output_type": "stream",
     "text": [
      "A\n",
      "R\n",
      "T\n",
      "I\n",
      "F\n",
      "I\n",
      "C\n",
      "I\n",
      "A\n",
      "L\n",
      " \n",
      "I\n",
      "N\n",
      "T\n",
      "E\n",
      "L\n",
      "L\n",
      "I\n",
      "N\n",
      "G\n",
      "E\n",
      "N\n",
      "C\n",
      "E\n"
     ]
    }
   ],
   "source": [
    "name = input(\"Enter Name :\")\n",
    "\n",
    "for temp in name:\n",
    "    print(temp)"
   ]
  },
  {
   "cell_type": "code",
   "execution_count": null,
   "id": "d8caec47-2b29-4cf8-ae29-53563d617f08",
   "metadata": {},
   "outputs": [],
   "source": []
  },
  {
   "cell_type": "code",
   "execution_count": 31,
   "id": "0f475bcc-6399-4971-81ad-6344c340d43d",
   "metadata": {},
   "outputs": [
    {
     "name": "stdin",
     "output_type": "stream",
     "text": [
      " your Name SHARIFF\n",
      " your age 27\n",
      " your profession DATA SCIENTIST\n"
     ]
    }
   ],
   "source": [
    "name= input(\" your Name\")\n",
    "age=  input(\" your age\")\n",
    "profession = input(\" your profession\")\n"
   ]
  },
  {
   "cell_type": "code",
   "execution_count": 33,
   "id": "5e7451e9-b290-49fa-9539-3141a1699831",
   "metadata": {},
   "outputs": [
    {
     "name": "stdout",
     "output_type": "stream",
     "text": [
      "(1, 'Welcome', 2, 'Hope')\n"
     ]
    }
   ],
   "source": [
    "score=(1, 'Welcome', 2, 'Hope')\n",
    "print(score)\n"
   ]
  },
  {
   "cell_type": "code",
   "execution_count": 39,
   "id": "0aab3441-2505-4369-ad94-2aa707ff0c68",
   "metadata": {},
   "outputs": [
    {
     "name": "stdout",
     "output_type": "stream",
     "text": [
      "(0, 1, 2, 3, 'python', 'Hope')\n"
     ]
    }
   ],
   "source": [
    "tuple1= (0 , 1, 2, 3)\n",
    "tuple2= (\"python\",\"Hope\")\n",
    "tuples= (tuple1)+(tuple2)\n",
    "print(tuples)"
   ]
  },
  {
   "cell_type": "code",
   "execution_count": 53,
   "id": "63418327-9c0a-426f-aba9-329f1aefe383",
   "metadata": {},
   "outputs": [
    {
     "name": "stdout",
     "output_type": "stream",
     "text": [
      "19 is odd\n",
      "25 is odd\n",
      "1 is odd\n"
     ]
    }
   ],
   "source": [
    "t1 = (20,10,16,19,25,1,276,188)\n",
    "for i in t1:\n",
    "    if i%2!=0:\n",
    "        print(f\"{i} is odd\")\n",
    "    \n"
   ]
  },
  {
   "cell_type": "code",
   "execution_count": 55,
   "id": "84a6fe5c-26db-42d6-9159-76a4d91393c9",
   "metadata": {},
   "outputs": [
    {
     "name": "stdout",
     "output_type": "stream",
     "text": [
      "20 is  odd\n",
      "10 is  odd\n",
      "16 is  odd\n",
      "276 is  odd\n",
      "188 is  odd\n"
     ]
    }
   ],
   "source": [
    "t1 = (20,10,16,19,25,1,276,188)\n",
    "for i in t1:\n",
    "    if i%2==0:\n",
    "        print(f\"{i} is  odd\")"
   ]
  },
  {
   "cell_type": "code",
   "execution_count": null,
   "id": "c40c14b0-f742-47a0-989c-77290fbe22c5",
   "metadata": {},
   "outputs": [],
   "source": []
  }
 ],
 "metadata": {
  "kernelspec": {
   "display_name": "Python 3 (ipykernel)",
   "language": "python",
   "name": "python3"
  },
  "language_info": {
   "codemirror_mode": {
    "name": "ipython",
    "version": 3
   },
   "file_extension": ".py",
   "mimetype": "text/x-python",
   "name": "python",
   "nbconvert_exporter": "python",
   "pygments_lexer": "ipython3",
   "version": "3.12.4"
  }
 },
 "nbformat": 4,
 "nbformat_minor": 5
}
